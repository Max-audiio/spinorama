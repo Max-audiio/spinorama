{
 "cells": [
  {
   "cell_type": "markdown",
   "metadata": {},
   "source": [
    "Create a small movie with all contour plots from ASR"
   ]
  },
  {
   "cell_type": "code",
   "execution_count": 2,
   "metadata": {},
   "outputs": [],
   "source": [
    "import math\n",
    "import json\n",
    "import os\n",
    "import pandas as pd\n",
    "import altair as alt\n",
    "import numpy as np\n",
    "import cv2"
   ]
  },
  {
   "cell_type": "markdown",
   "metadata": {},
   "source": [
    "path is docs/{speaker}/ASR/default/SPL {Vertical|Horizontal} Contour_large.png\n",
    "scores are in docs/stats/scores.json"
   ]
  },
  {
   "cell_type": "code",
   "execution_count": 3,
   "metadata": {},
   "outputs": [],
   "source": [
    "def getSortedScores(filename):\n",
    "    with open(filename, \"r\") as f:\n",
    "        j = json.load(f)\n",
    "        data = j[\"datasets\"][j[\"data\"][\"name\"]]\n",
    "        scores = {}\n",
    "        for _, d in enumerate(data):\n",
    "            # print(d)\n",
    "            scores[d[\"speaker\"]] = d[\"pref_score\"]\n",
    "        return {k: v for k, v in sorted(scores.items(), key=lambda item: item[1])}\n",
    "    return None"
   ]
  },
  {
   "cell_type": "code",
   "execution_count": 4,
   "metadata": {},
   "outputs": [
    {
     "name": "stdout",
     "output_type": "stream",
     "text": [
      "61\n"
     ]
    }
   ],
   "source": [
    "scores = getSortedScores(\"../docs/stats/scores.json\")\n",
    "print(len(scores))\n",
    "# print(scores)"
   ]
  },
  {
   "cell_type": "code",
   "execution_count": 5,
   "metadata": {},
   "outputs": [],
   "source": [
    "def getContour(scores, orientation):\n",
    "    collectionH = []\n",
    "    size = (None, None)\n",
    "    for speaker in scores.keys():\n",
    "        nameH = \"../docs/{0}/ASR/default/SPL {1} Contour_large.png\".format(speaker, orientation)\n",
    "        if not os.path.exists(nameH):\n",
    "            print(\"Warning: picture {0} doesn't exist!\".format(nameH))\n",
    "            continue\n",
    "        imgH = cv2.imread(nameH)\n",
    "        height, width, layers = imgH.shape\n",
    "        if size[0] != None and size[1] != None and size[0] != width and size[1] != height:\n",
    "            print(\"Warning: image shapes are not constant\")\n",
    "        size = (width, height)\n",
    "        collectionH.append(imgH)\n",
    "    return collectionH, size"
   ]
  },
  {
   "cell_type": "code",
   "execution_count": null,
   "metadata": {},
   "outputs": [],
   "source": [
    "contourH, sizeH = getContour(scores, \"Horizontal\")\n",
    "contourV, sizeV = getContour(scores, \"Vertical\")"
   ]
  },
  {
   "cell_type": "code",
   "execution_count": null,
   "metadata": {},
   "outputs": [],
   "source": [
    "def buildVideo(videoname, images, size):\n",
    "    out = cv2.VideoWriter(videoname, cv2.VideoWriter_fourcc(*\"MPEG\"), 3, size)\n",
    "    for i in range(len(images)):\n",
    "        out.write(images[i])\n",
    "    out.release()"
   ]
  },
  {
   "cell_type": "code",
   "execution_count": null,
   "metadata": {},
   "outputs": [],
   "source": [
    "buildVideo(\"contourH.mpeg\", contourH, sizeH)\n",
    "buildVideo(\"contourV.mpeg\", contourV, sizeV)"
   ]
  },
  {
   "cell_type": "code",
   "execution_count": null,
   "metadata": {},
   "outputs": [],
   "source": []
  },
  {
   "cell_type": "code",
   "execution_count": null,
   "metadata": {},
   "outputs": [],
   "source": []
  },
  {
   "cell_type": "code",
   "execution_count": null,
   "metadata": {},
   "outputs": [],
   "source": []
  }
 ],
 "metadata": {
  "kernelspec": {
   "display_name": "Python 3 (ipykernel)",
   "language": "python",
   "name": "python3"
  },
  "language_info": {
   "codemirror_mode": {
    "name": "ipython",
    "version": 3
   },
   "file_extension": ".py",
   "mimetype": "text/x-python",
   "name": "python",
   "nbconvert_exporter": "python",
   "pygments_lexer": "ipython3",
   "version": "3.10.12"
  }
 },
 "nbformat": 4,
 "nbformat_minor": 4
}
