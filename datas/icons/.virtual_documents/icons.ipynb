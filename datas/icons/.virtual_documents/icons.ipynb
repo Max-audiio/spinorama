!pip install "drawsvg[all]~=2.0"
import drawsvg as draw
import math


colors = {
    "danger": "hsl(348, 100%, 61%)",
    "info": "hsl(204, 86%, 53%)",
    "success": "hsl(141, 71%, 48%)",
}


def volume(color):

    d = draw.Drawing(640, 512, origin="center")
    r = draw.Rectangle(-320, -512 / 4, 220, 512 / 2, rx=40, ry=40, fill=color, fill_opacity=0.9)
    d.append(r)

    rt = draw.Lines(
        -160, -512 / 4, -50, -250, -50, 250, -160, 512 / 4, close=True, fill=color, fill_opacity=0.9
    )

    d.append(rt)
    center = 0
    angle = 60
    thickness = 50
    vol_1 = draw.ArcLine(
        center, 0, 80, -90, 90, stroke=color, stroke_width=thickness, fill=color, fill_opacity=0
    )

    vol_2 = draw.ArcLine(
        center,
        0,
        180,
        -angle,
        angle,
        stroke=color,
        stroke_width=thickness,
        fill=color,
        fill_opacity=0.0,
    )

    vol_3 = draw.ArcLine(
        center,
        0,
        280,
        -angle,
        angle,
        stroke=color,
        stroke_width=thickness,
        fill=color,
        fill_opacity=0.0,
    )

    return d, vol_1, vol_2, vol_3


for color_name, color_hsl in colors.items():
    d, vol_1, vol_2, vol_3 = volume(color=color_hsl)
    d.save_svg(f"volume-{color_name}-0.svg")
    d.append(vol_1)
    d.save_svg(f"volume-{color_name}-1.svg")
    d.append(vol_2)
    d.save_svg(f"volume-{color_name}-2.svg")
    d.append(vol_3)
    d.save_svg(f"volume-{color_name}-3.svg")

    d.rasterize()


d = draw.Drawing(640, 512, origin="center")
# background = draw.Rectangle(-320, -256, 640, 512, rx=10, ry=10, fill='red', fill_opacity=0.2)
# d.append(background)
box1 = draw.Rectangle(
    -320 + 150,
    -256,
    640 - 2 * 150,
    512,
    rx=40,
    ry=40,
    stroke="black",
    stroke_width=1,
    fill="black",
    fill_opacity=0.8,
)
boff = 40
box2 = draw.Rectangle(
    -320 + 150 + boff,
    -256 + boff + 0,
    640 - 2 * 150 - 2 * boff,
    130,
    rx=40,
    ry=40,
    stroke="white",
    stroke_width=10,
    fill="white",
    fill_opacity=0.3,
)
d.append(box1)
d.append(box2)
tweeter1 = draw.ArcLine(
    0, -150, 40, -180, 180, stroke=colors["info"], stroke_width=20, fill="white", fill_opacity=1
)
tweeter2 = draw.ArcLine(
    0, -150, 50, -180, 180, stroke="white", stroke_width=10, fill="none", fill_opacity=1
)
d.append(tweeter1)
# d.append(tweeter2)
woofer1 = draw.ArcLine(
    0, 90, 130, -180, 180, stroke=colors["info"], stroke_width=40, fill="white", fill_opacity=1
)
woofer2 = draw.ArcLine(
    0, 90, 20, -180, 180, stroke=colors["info"], stroke_width=40, fill="white", fill_opacity=1
)
woofer3 = draw.ArcLine(
    0, 90, 150, -180, 180, stroke="white", stroke_width=35, fill="none", fill_opacity=1
)
d.append(woofer1)
d.append(woofer2)
d.append(woofer3)
d.save_svg("icon-bookshelves.svg")
d


hb = -120
vb = 180
hs = 35
vs = 70
arrow = draw.Marker(-0.1, -0.51, 0.9, 0.5, scale=4, orient="auto", stroke_opacity=1)
arrow.append(draw.Lines(-0.1, 0.5, -0.1, -0.5, 0.9, 0, fill="orange", close=True, stroke_opacity=1))
zigzag = draw.Path(
    stroke="orange",
    fill="none",
    fill_opacity=1,
    stroke_width=20,
    stroke_opacity=1,
    marker_end=arrow,
)
zigzag.M(hb, vb - vs).L(hb + 1 * hs, vb + vs).L(hb + 2 * hs, vb - vs).L(hb + 3 * hs, vb + vs).L(
    hb + 4 * hs, vb - vs
).L(hb + 5 * hs, vb + vs).L(hb + 6.5 * hs, vb - vs * 1.5)
d.append(zigzag)
d.save_svg("icon-bookshelves-zigzag.svg")
d






