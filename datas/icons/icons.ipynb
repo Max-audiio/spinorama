{
 "cells": [
  {
   "cell_type": "code",
   "execution_count": 90,
   "id": "5e0b41c1-a77e-4173-8486-57bd8e2e8703",
   "metadata": {},
   "outputs": [
    {
     "name": "stdout",
     "output_type": "stream",
     "text": [
      "Requirement already satisfied: drawsvg[all]~=2.0 in /home/pierre/src/spinorama/spinorama-venv/lib/python3.10/site-packages (2.1.1)\n",
      "Requirement already satisfied: cairoSVG~=2.3 in /home/pierre/src/spinorama/spinorama-venv/lib/python3.10/site-packages (from drawsvg[all]~=2.0) (2.7.0)\n",
      "Requirement already satisfied: numpy~=1.16 in /home/pierre/src/spinorama/spinorama-venv/lib/python3.10/site-packages (from drawsvg[all]~=2.0) (1.24.3)\n",
      "Requirement already satisfied: imageio~=2.5 in /home/pierre/src/spinorama/spinorama-venv/lib/python3.10/site-packages (from drawsvg[all]~=2.0) (2.31.0)\n",
      "Requirement already satisfied: imageio-ffmpeg~=0.4 in /home/pierre/src/spinorama/spinorama-venv/lib/python3.10/site-packages (from drawsvg[all]~=2.0) (0.4.8)\n",
      "Requirement already satisfied: pwkit~=1.0 in /home/pierre/src/spinorama/spinorama-venv/lib/python3.10/site-packages (from drawsvg[all]~=2.0) (1.0.0)\n",
      "Requirement already satisfied: cairocffi in /home/pierre/src/spinorama/spinorama-venv/lib/python3.10/site-packages (from cairoSVG~=2.3->drawsvg[all]~=2.0) (1.5.1)\n",
      "Requirement already satisfied: cssselect2 in /home/pierre/src/spinorama/spinorama-venv/lib/python3.10/site-packages (from cairoSVG~=2.3->drawsvg[all]~=2.0) (0.7.0)\n",
      "Requirement already satisfied: defusedxml in /home/pierre/src/spinorama/spinorama-venv/lib/python3.10/site-packages (from cairoSVG~=2.3->drawsvg[all]~=2.0) (0.7.1)\n",
      "Requirement already satisfied: pillow in /home/pierre/src/spinorama/spinorama-venv/lib/python3.10/site-packages (from cairoSVG~=2.3->drawsvg[all]~=2.0) (9.5.0)\n",
      "Requirement already satisfied: tinycss2 in /home/pierre/src/spinorama/spinorama-venv/lib/python3.10/site-packages (from cairoSVG~=2.3->drawsvg[all]~=2.0) (1.2.1)\n",
      "Requirement already satisfied: six>=1.9 in /home/pierre/src/spinorama/spinorama-venv/lib/python3.10/site-packages (from pwkit~=1.0->drawsvg[all]~=2.0) (1.16.0)\n",
      "Requirement already satisfied: cffi>=1.1.0 in /home/pierre/src/spinorama/spinorama-venv/lib/python3.10/site-packages (from cairocffi->cairoSVG~=2.3->drawsvg[all]~=2.0) (1.15.1)\n",
      "Requirement already satisfied: webencodings in /home/pierre/src/spinorama/spinorama-venv/lib/python3.10/site-packages (from cssselect2->cairoSVG~=2.3->drawsvg[all]~=2.0) (0.5.1)\n",
      "Requirement already satisfied: pycparser in /home/pierre/src/spinorama/spinorama-venv/lib/python3.10/site-packages (from cffi>=1.1.0->cairocffi->cairoSVG~=2.3->drawsvg[all]~=2.0) (2.21)\n"
     ]
    }
   ],
   "source": [
    "!pip install \"drawsvg[all]~=2.0\"\n",
    "import drawsvg as draw\n",
    "import math"
   ]
  },
  {
   "cell_type": "code",
   "execution_count": 46,
   "id": "6c8edfc6-8683-4dd1-95ab-070dcd3be145",
   "metadata": {},
   "outputs": [],
   "source": [
    "colors = {\n",
    "    \"danger\": \"hsl(348, 100%, 61%)\",\n",
    "    \"info\":\"hsl(204, 86%, 53%)\",\n",
    "    \"success\": \"hsl(141, 71%, 48%)\",\n",
    "}"
   ]
  },
  {
   "cell_type": "code",
   "execution_count": 47,
   "id": "133a0855-a3d2-49f1-ba8d-68057e2bd1d2",
   "metadata": {},
   "outputs": [],
   "source": [
    "def volume(color):\n",
    "    \n",
    "    d = draw.Drawing(640, 512, origin=\"center\")\n",
    "    r = draw.Rectangle(-320, -512/4, 220, 512/2, rx=40, ry=40, fill=color, fill_opacity=0.9)\n",
    "    d.append(r)\n",
    "\n",
    "    rt = draw.Lines(\n",
    "        -160, -512/4, \n",
    "        -50, -250, \n",
    "        -50, 250, \n",
    "        -160, 512/4,\n",
    "        close=True, \n",
    "        fill=color,\n",
    "        fill_opacity=0.9\n",
    "    )\n",
    "\n",
    "    d.append(rt)\n",
    "    center = 0\n",
    "    angle = 60\n",
    "    thickness = 50\n",
    "    vol_1 = draw.ArcLine(\n",
    "        center, 0, \n",
    "        80, \n",
    "        -90, 90,\n",
    "        stroke=color, stroke_width=thickness, fill=color, fill_opacity=0\n",
    "    )\n",
    "\n",
    "    vol_2 = draw.ArcLine(\n",
    "        center, 0, \n",
    "        180, \n",
    "        -angle, angle,\n",
    "        stroke=color, stroke_width=thickness, fill=color, fill_opacity=0.\n",
    "    )\n",
    "\n",
    "    vol_3 = draw.ArcLine(\n",
    "        center, 0, \n",
    "        280, \n",
    "        -angle, angle,\n",
    "        stroke=color, stroke_width=thickness, fill=color, fill_opacity=0.\n",
    "    )\n",
    "\n",
    "    return d, vol_1, vol_2, vol_3\n",
    "    \n",
    "\n",
    "for color_name, color_hsl in colors.items():\n",
    "    d, vol_1, vol_2, vol_3 = volume(color=color_hsl)    \n",
    "    d.save_svg(f\"volume-{color_name}-0.svg\")\n",
    "    d.append(vol_1)\n",
    "    d.save_svg(f\"volume-{color_name}-1.svg\")\n",
    "    d.append(vol_2)\n",
    "    d.save_svg(f\"volume-{color_name}-2.svg\")\n",
    "    d.append(vol_3)\n",
    "    d.save_svg(f\"volume-{color_name}-3.svg\")\n",
    "\n",
    "    d.rasterize()\n",
    "    \n",
    "\n"
   ]
  },
  {
   "cell_type": "code",
   "execution_count": 268,
   "id": "cb807be5-aad0-4731-ae94-b6afb79db86b",
   "metadata": {
    "scrolled": true
   },
   "outputs": [
    {
     "data": {
      "image/svg+xml": [
       "<?xml version=\"1.0\" encoding=\"UTF-8\"?>\n",
       "<svg xmlns=\"http://www.w3.org/2000/svg\" xmlns:xlink=\"http://www.w3.org/1999/xlink\"\n",
       "     width=\"640\" height=\"512\" viewBox=\"-320.0 -256.0 640 512\">\n",
       "<defs>\n",
       "</defs>\n",
       "<rect x=\"-170\" y=\"-256\" width=\"340\" height=\"512\" rx=\"40\" ry=\"40\" stroke=\"black\" stroke-width=\"1\" fill=\"black\" fill-opacity=\"0.8\" />\n",
       "<rect x=\"-130\" y=\"-216\" width=\"260\" height=\"130\" rx=\"40\" ry=\"40\" stroke=\"white\" stroke-width=\"10\" fill=\"white\" fill-opacity=\"0.3\" />\n",
       "<circle cx=\"0\" cy=\"-150\" r=\"40\" stroke=\"hsl(204, 86%, 53%)\" stroke-width=\"20\" fill=\"white\" fill-opacity=\"1\" />\n",
       "<circle cx=\"0\" cy=\"90\" r=\"130\" stroke=\"hsl(204, 86%, 53%)\" stroke-width=\"40\" fill=\"white\" fill-opacity=\"1\" />\n",
       "<circle cx=\"0\" cy=\"90\" r=\"20\" stroke=\"hsl(204, 86%, 53%)\" stroke-width=\"40\" fill=\"white\" fill-opacity=\"1\" />\n",
       "<circle cx=\"0\" cy=\"90\" r=\"150\" stroke=\"white\" stroke-width=\"35\" fill=\"none\" fill-opacity=\"1\" />\n",
       "</svg>"
      ],
      "text/plain": [
       "<drawsvg.drawing.Drawing at 0x7f834acf0580>"
      ]
     },
     "execution_count": 268,
     "metadata": {},
     "output_type": "execute_result"
    }
   ],
   "source": [
    "d = draw.Drawing(640, 512, origin=\"center\")\n",
    "# background = draw.Rectangle(-320, -256, 640, 512, rx=10, ry=10, fill='red', fill_opacity=0.2)\n",
    "# d.append(background)\n",
    "box1 = draw.Rectangle(\n",
    "    -320+150, -256, 640-2*150, 512, \n",
    "    rx=40, ry=40, stroke='black', stroke_width=1, fill='black', fill_opacity=0.8\n",
    ")\n",
    "boff = 40\n",
    "box2 = draw.Rectangle(\n",
    "    -320+150+boff, -256+boff+0, 640-2*150-2*boff, 130, \n",
    "    rx=40, ry=40, stroke='white', stroke_width=10, fill='white', fill_opacity=0.3\n",
    ")\n",
    "d.append(box1)\n",
    "d.append(box2)\n",
    "tweeter1 = draw.ArcLine(\n",
    "        0, -150, \n",
    "        40, \n",
    "        -180, 180,\n",
    "        stroke=colors['info'], stroke_width=20, fill='white', fill_opacity=1\n",
    "    )\n",
    "tweeter2 = draw.ArcLine(\n",
    "        0, -150, \n",
    "        50, \n",
    "        -180, 180,\n",
    "        stroke='white', stroke_width=10, fill='none', fill_opacity=1\n",
    "    )\n",
    "d.append(tweeter1)\n",
    "# d.append(tweeter2)\n",
    "woofer1 = draw.ArcLine(\n",
    "        0, 90, \n",
    "        130, \n",
    "        -180, 180,\n",
    "        stroke=colors['info'], stroke_width=40, fill='white', fill_opacity=1\n",
    "    )\n",
    "woofer2 = draw.ArcLine(\n",
    "        0, 90, \n",
    "        20, \n",
    "        -180, 180,\n",
    "        stroke=colors['info'], stroke_width=40, fill='white', fill_opacity=1\n",
    "    )\n",
    "woofer3 = draw.ArcLine(\n",
    "        0, 90, \n",
    "        150, \n",
    "        -180, 180,\n",
    "        stroke='white', stroke_width=35, fill='none', fill_opacity=1\n",
    "    )\n",
    "d.append(woofer1)    \n",
    "d.append(woofer2)\n",
    "d.append(woofer3)\n",
    "d.save_svg('icon-bookshelves.svg')\n",
    "d"
   ]
  },
  {
   "cell_type": "code",
   "execution_count": 270,
   "id": "112feea9-af6a-4b96-9dc1-7345ca1d204e",
   "metadata": {},
   "outputs": [
    {
     "data": {
      "image/svg+xml": [
       "<?xml version=\"1.0\" encoding=\"UTF-8\"?>\n",
       "<svg xmlns=\"http://www.w3.org/2000/svg\" xmlns:xlink=\"http://www.w3.org/1999/xlink\"\n",
       "     width=\"640\" height=\"512\" viewBox=\"-320.0 -256.0 640 512\">\n",
       "<defs>\n",
       "<marker markerWidth=\"4.0\" markerHeight=\"4.04\" viewBox=\"-0.1 -0.51 1.0 1.01\" orient=\"auto\" stroke-opacity=\"1\" id=\"qP2Ll2Kk0\">\n",
       "<path d=\"M-0.1,0.5 L-0.1,-0.5 L0.9,0 Z\" fill=\"orange\" stroke-opacity=\"1\" />\n",
       "</marker>\n",
       "<marker markerWidth=\"4.0\" markerHeight=\"4.04\" viewBox=\"-0.1 -0.51 1.0 1.01\" orient=\"auto\" stroke-opacity=\"1\" id=\"qP2Ll2Kk1\">\n",
       "<path d=\"M-0.1,0.5 L-0.1,-0.5 L0.9,0 Z\" fill=\"orange\" stroke-opacity=\"1\" />\n",
       "</marker>\n",
       "</defs>\n",
       "<rect x=\"-170\" y=\"-256\" width=\"340\" height=\"512\" rx=\"40\" ry=\"40\" stroke=\"black\" stroke-width=\"1\" fill=\"black\" fill-opacity=\"0.8\" />\n",
       "<rect x=\"-130\" y=\"-216\" width=\"260\" height=\"130\" rx=\"40\" ry=\"40\" stroke=\"white\" stroke-width=\"10\" fill=\"white\" fill-opacity=\"0.3\" />\n",
       "<circle cx=\"0\" cy=\"-150\" r=\"40\" stroke=\"hsl(204, 86%, 53%)\" stroke-width=\"20\" fill=\"white\" fill-opacity=\"1\" />\n",
       "<circle cx=\"0\" cy=\"90\" r=\"130\" stroke=\"hsl(204, 86%, 53%)\" stroke-width=\"40\" fill=\"white\" fill-opacity=\"1\" />\n",
       "<circle cx=\"0\" cy=\"90\" r=\"20\" stroke=\"hsl(204, 86%, 53%)\" stroke-width=\"40\" fill=\"white\" fill-opacity=\"1\" />\n",
       "<circle cx=\"0\" cy=\"90\" r=\"150\" stroke=\"white\" stroke-width=\"35\" fill=\"none\" fill-opacity=\"1\" />\n",
       "<path d=\"M-120,110 L-85,250 L-50,110 L-15,250 L20,110 L55,250 L107.5,75.0\" stroke=\"orange\" fill=\"none\" fill-opacity=\"1\" stroke-width=\"20\" stroke-opacity=\"0.85\" marker-end=\"url(#qP2Ll2Kk0)\" />\n",
       "<path d=\"M-120,110 L-85,250 L-50,110 L-15,250 L20,110 L55,250 L107.5,75.0\" stroke=\"orange\" fill=\"none\" fill-opacity=\"1\" stroke-width=\"20\" stroke-opacity=\"1\" marker-end=\"url(#qP2Ll2Kk1)\" />\n",
       "</svg>"
      ],
      "text/plain": [
       "<drawsvg.drawing.Drawing at 0x7f834acf0580>"
      ]
     },
     "execution_count": 270,
     "metadata": {},
     "output_type": "execute_result"
    }
   ],
   "source": [
    "hb = -120\n",
    "vb = 180\n",
    "hs = 35\n",
    "vs = 70\n",
    "arrow = draw.Marker(-0.1, -0.51, 0.9, 0.5, scale=4, orient='auto', stroke_opacity=1)\n",
    "arrow.append(draw.Lines(-0.1, 0.5, -0.1, -0.5, 0.9, 0, fill='orange', close=True, stroke_opacity=1))\n",
    "zigzag = draw.Path( \n",
    "    stroke='orange',\n",
    "    fill='none',\n",
    "    fill_opacity=1,\n",
    "    stroke_width=20,\n",
    "    stroke_opacity=1,\n",
    "    marker_end=arrow\n",
    ")\n",
    "zigzag.M(   hb,      vb-vs\n",
    "        ).L(hb+1*hs, vb+vs\n",
    "        ).L(hb+2*hs, vb-vs\n",
    "        ).L(hb+3*hs, vb+vs\n",
    "        ).L(hb+4*hs, vb-vs\n",
    "        ).L(hb+5*hs, vb+vs\n",
    "        ).L(hb+6.5*hs, vb-vs*1.5\n",
    "        )\n",
    "d.append(zigzag)\n",
    "d.save_svg('icon-bookshelves-zigzag.svg')\n",
    "d "
   ]
  },
  {
   "cell_type": "code",
   "execution_count": null,
   "id": "b70c99f9-58ad-4d21-b8b9-0812ce6a638f",
   "metadata": {},
   "outputs": [],
   "source": []
  },
  {
   "cell_type": "code",
   "execution_count": null,
   "id": "f707952b-84f7-40e0-8e0b-7186bbbf812c",
   "metadata": {},
   "outputs": [],
   "source": []
  }
 ],
 "metadata": {
  "kernelspec": {
   "display_name": "Python 3 (ipykernel)",
   "language": "python",
   "name": "python3"
  },
  "language_info": {
   "codemirror_mode": {
    "name": "ipython",
    "version": 3
   },
   "file_extension": ".py",
   "mimetype": "text/x-python",
   "name": "python",
   "nbconvert_exporter": "python",
   "pygments_lexer": "ipython3",
   "version": "3.10.6"
  }
 },
 "nbformat": 4,
 "nbformat_minor": 5
}
